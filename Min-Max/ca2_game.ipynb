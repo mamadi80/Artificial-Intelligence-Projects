{
 "cells": [
  {
   "cell_type": "markdown",
   "id": "9601389d-9406-4ec8-8e56-e3315e7c3075",
   "metadata": {},
   "source": [
    "For this computer assignment , we use minimax algorithm to implement checkers game. <br>\n",
    "In this game we each team has 12 pieces and each piece <br>\n",
    "can move diagonal , based on her color and type (king or normal).<br>\n",
    "To simply explain minimax algorithm , each player tries <br>\n",
    "to do the best move based on next move of opponent <br>\n",
    "(assuming that opponent will do the optimal move) and again <br>\n",
    "his opponent do the same tries it till we reach our depth , <br>\n",
    "and we can say that depth shows how many <br>\n",
    "levels does player predict and then chooses his move, <br>\n",
    "so more depth gives the player better choices and a better prediction <br>\n",
    ", but we should now that our nodes expand exponentially , <br>\n",
    "so it needs more time to return the best move.<br>\n",
    "<br>\n",
    "Here we have a little explanation of the fucntions we changed :<br>\n",
    "<br>\n",
    "GetAllMoves : This function returns all possible moves for a player , which can be done by passing all of his pieces<br>\n",
    "              to GetValidMoves that we will describe next.<br>\n",
    "<br>              \n",
    "GetValidMoves : This function gets a piece with its full informations , so we can find out the possible moves for it.<br>\n",
    "<br>\n",
    "<br>\n",
    "Evaluation : The amount we choose to describe how is the situation for each player .<br>\n",
    "             In this project our evaluation function returns whiteLeft - redLeft + (whiteKings * 0.5 - redKings * 0.5).<br>\n",
    "             The more this amount is , the better is the situation whiteplayer has and vice versa .<br>\n",
    "             So the whiteplayer tries to maximise it while red player tries to minimise itby his moves.<br>\n",
    "\n",
    "Using depth 1 for both teams, the game will <br>\n",
    "et to ends very soon cause we don't need much time to predict it , and the winner is red player<br>\n",
    "cuase he starts first . and our root will first lead to it.<br>\n",
    "<br>\n",
    "Using depth 5 and 2 , we will need more time to make<br>\n",
    "a move cause of the explaind reasons , and the team using depth 5 will win<br>\n",
    "cause he will predict the game more accurate <br>\n",
    "and tries to have a better situation in 5 turns not only in 2 turns.<br>\n",
    "<br>\n",
    "Using depth 5 for both teams , red team wins again because he starts first , just same to using depth 5 and 5 .<br>\n"
   ]
  },
  {
   "cell_type": "code",
   "execution_count": 1,
   "id": "bf12371f-ba07-450a-9699-050f4d4448e9",
   "metadata": {},
   "outputs": [
    {
     "data": {
      "text/plain": [
       "0"
      ]
     },
     "execution_count": 1,
     "metadata": {},
     "output_type": "execute_result"
    }
   ],
   "source": [
    "import os\n",
    "\n",
    "os.system('jupyter nbconvert --to html ca2_game.ipynb --output out1')"
   ]
  },
  {
   "cell_type": "code",
   "execution_count": null,
   "id": "6900a0d8-7c15-47fc-a5d6-bb54d6177bb7",
   "metadata": {},
   "outputs": [],
   "source": []
  }
 ],
 "metadata": {
  "kernelspec": {
   "display_name": "Python 3",
   "language": "python",
   "name": "python3"
  },
  "language_info": {
   "codemirror_mode": {
    "name": "ipython",
    "version": 3
   },
   "file_extension": ".py",
   "mimetype": "text/x-python",
   "name": "python",
   "nbconvert_exporter": "python",
   "pygments_lexer": "ipython3",
   "version": "3.8.8"
  }
 },
 "nbformat": 4,
 "nbformat_minor": 5
}
